{
 "cells": [
  {
   "cell_type": "markdown",
   "metadata": {},
   "source": [
    "# Detecção de Linguagem Com Regex e Aprendizado de Máquina | Language Detection Using Regex and Machine Learning"
   ]
  },
  {
   "cell_type": "code",
   "execution_count": 6,
   "metadata": {},
   "outputs": [],
   "source": [
    "import pandas as pd\n",
    "\n",
    "path_es = \"../data/stackoverflow_espanhol.csv\"\n",
    "path_en = \"../data/stackoverflow_ingles.csv\"\n",
    "path_pt = \"../data/stackoverflow_portugues.csv\""
   ]
  },
  {
   "cell_type": "markdown",
   "metadata": {},
   "source": [
    "### Análise do Dataset Português"
   ]
  },
  {
   "cell_type": "code",
   "execution_count": 18,
   "metadata": {},
   "outputs": [
    {
     "name": "stdout",
     "output_type": "stream",
     "text": [
      "Visão Geral do Dataset Português\n",
      "\n",
      "<class 'pandas.core.frame.DataFrame'>\n",
      "RangeIndex: 500 entries, 0 to 499\n",
      "Data columns (total 6 columns):\n",
      " #   Column         Non-Null Count  Dtype \n",
      "---  ------         --------------  ----- \n",
      " 0   Id             500 non-null    int64 \n",
      " 1   Título         500 non-null    object\n",
      " 2   Questão        500 non-null    object\n",
      " 3   Tags           500 non-null    object\n",
      " 4   Pontuação      500 non-null    int64 \n",
      " 5   Visualizações  500 non-null    int64 \n",
      "dtypes: int64(3), object(3)\n",
      "memory usage: 23.6+ KB\n",
      "None \n",
      "\n",
      "-------------------------------------------------- \n",
      "\n",
      "      Id                                             Título  \\\n",
      "0   2402         Como fazer hash de senhas de forma segura?   \n",
      "1   6441  Qual é a diferença entre INNER JOIN e OUTER JOIN?   \n",
      "2    579  Por que não devemos usar funções do tipo mysql_*?   \n",
      "3   2539           As mensagens de erro devem se desculpar?   \n",
      "4  17501  Qual é a diferença de API, biblioteca e Framew...   \n",
      "\n",
      "                                             Questão  \\\n",
      "0  <p>Se eu fizer o <em><a href=\"http://pt.wikipe...   \n",
      "1  <p>Qual é a diferença entre <code>INNER JOIN</...   \n",
      "2  <p>Uma dúvida muito comum é por que devemos pa...   \n",
      "3  <p>É comum encontrar uma mensagem de erro que ...   \n",
      "4  <p>Me parecem termos muito próximos e eventual...   \n",
      "\n",
      "                                         Tags  Pontuação  Visualizações  \n",
      "0     <hash><segurança><senhas><criptografia>        350          22367  \n",
      "1                                 <sql><join>        276         176953  \n",
      "2                                <php><mysql>        226           9761  \n",
      "3           <aplicação-web><gui><console><ux>        214           5075  \n",
      "4  <api><framework><terminologia><biblioteca>        193          54191  \n"
     ]
    }
   ],
   "source": [
    "df_pt = pd.read_csv(path_pt)\n",
    "\n",
    "print(\"Visão Geral do Dataset Português\\n\")\n",
    "print(df_pt.info(), \"\\n\")\n",
    "print(\"-\"*50, \"\\n\")\n",
    "print(df_pt.head())"
   ]
  },
  {
   "cell_type": "markdown",
   "metadata": {},
   "source": [
    "### Análise do Dataset Inglês"
   ]
  },
  {
   "cell_type": "code",
   "execution_count": 15,
   "metadata": {},
   "outputs": [
    {
     "name": "stdout",
     "output_type": "stream",
     "text": [
      "Visão Geral do Dataset Inglês\n",
      "\n",
      "<class 'pandas.core.frame.DataFrame'>\n",
      "RangeIndex: 500 entries, 0 to 499\n",
      "Data columns (total 6 columns):\n",
      " #   Column         Non-Null Count  Dtype \n",
      "---  ------         --------------  ----- \n",
      " 0   Id             500 non-null    int64 \n",
      " 1   Título         500 non-null    object\n",
      " 2   Questão        500 non-null    object\n",
      " 3   Tags           500 non-null    object\n",
      " 4   Pontuação      500 non-null    int64 \n",
      " 5   Visualizações  500 non-null    int64 \n",
      "dtypes: int64(3), object(3)\n",
      "memory usage: 23.6+ KB\n",
      "None \n",
      "\n",
      "-------------------------------------------------- \n",
      "\n",
      "         Id                                             Título  \\\n",
      "0  11227809  Why is it faster to process a sorted array tha...   \n",
      "1    927358  How do I undo the most recent local commits in...   \n",
      "2   2003505  How do I delete a Git branch locally and remot...   \n",
      "3    292357  What is the difference between 'git pull' and ...   \n",
      "4    477816             What is the correct JSON content type?   \n",
      "\n",
      "                                             Questão  \\\n",
      "0  <p>Here is a piece of C++ code that seems very...   \n",
      "1  <p>I accidentally committed the wrong files to...   \n",
      "2  <p>I want to delete a branch both locally and ...   \n",
      "3  <blockquote>\\n  <p><strong>Moderator Note:</st...   \n",
      "4  <p>I've been messing around with <a href=\"http...   \n",
      "\n",
      "                                                Tags  Pontuação  Visualizações  \n",
      "0  <java><c++><performance><optimization><branch-...      23057        1358574  \n",
      "1           <git><version-control><git-commit><undo>      19640        7906137  \n",
      "2                      <git><git-branch><git-remote>      15249        6940906  \n",
      "3                         <git><git-pull><git-fetch>      11008        2543052  \n",
      "4                 <json><http-headers><content-type>       9701        2478940  \n"
     ]
    }
   ],
   "source": [
    "df_en = pd.read_csv(path_en)\n",
    "\n",
    "print(\"Visão Geral do Dataset Inglês\\n\")\n",
    "print(df_en.info(), \"\\n\")\n",
    "print(\"-\"*50, \"\\n\")\n",
    "print(df_en.head())"
   ]
  },
  {
   "cell_type": "markdown",
   "metadata": {},
   "source": [
    "### Análise do Dataset Espanhol"
   ]
  },
  {
   "cell_type": "code",
   "execution_count": 16,
   "metadata": {},
   "outputs": [
    {
     "name": "stdout",
     "output_type": "stream",
     "text": [
      "Visão Geral do Dataset Espanhol\n",
      "\n",
      "<class 'pandas.core.frame.DataFrame'>\n",
      "RangeIndex: 500 entries, 0 to 499\n",
      "Data columns (total 6 columns):\n",
      " #   Column         Non-Null Count  Dtype \n",
      "---  ------         --------------  ----- \n",
      " 0   Id             500 non-null    int64 \n",
      " 1   Título         500 non-null    object\n",
      " 2   Questão        500 non-null    object\n",
      " 3   Tags           500 non-null    object\n",
      " 4   Pontuação      500 non-null    int64 \n",
      " 5   Visualizações  500 non-null    int64 \n",
      "dtypes: int64(3), object(3)\n",
      "memory usage: 23.6+ KB\n",
      "None \n",
      "\n",
      "-------------------------------------------------- \n",
      "\n",
      "      Id                                             Título  \\\n",
      "0  18232              ¿Cómo evitar la inyección SQL en PHP?   \n",
      "1    197  ¿Por qué mis programas no pueden hacer cálculo...   \n",
      "2     36  ¿Cuál es la diferencia entre un inner y un out...   \n",
      "3  29177  ¿Por qué es considerado una mala práctica util...   \n",
      "4    142  Validar un email en JavaScript que acepte todo...   \n",
      "\n",
      "                                             Questão  \\\n",
      "0  <p>Las sentencias dinámicas son sentencias SQL...   \n",
      "1  <p>Unas veces los cálculos funcionan correctam...   \n",
      "2  <p>¿Cuál es la diferencia entre un <code>inner...   \n",
      "3  <p>La mayoría de nosotros decimos, (muchas vec...   \n",
      "4  <h3>Pregunta</h3>\\n\\n<p>¿Cómo validar un e-mai...   \n",
      "\n",
      "                                                Tags  Pontuação  Visualizações  \n",
      "0        <php><mysql><sql><seguridad><inyección-sql>        169          38614  \n",
      "1   <matemáticas><coma-flotante><lenguaje-agnóstico>        141           3860  \n",
      "2                                 <mysql><sql><join>         97          53627  \n",
      "3  <variables><variables-globales><patrones-de-di...         89           9987  \n",
      "4             <javascript><validación><email><regex>         87          73129   \n",
      "\n"
     ]
    }
   ],
   "source": [
    "df_es = pd.read_csv(path_es, encoding=\"ISO-8859-1\", sep=\";\")\n",
    "\n",
    "print(\"Visão Geral do Dataset Espanhol\\n\")\n",
    "print(df_es.info(), \"\\n\")\n",
    "print(\"-\"*50, \"\\n\")\n",
    "print(df_es.head(), \"\\n\")"
   ]
  },
  {
   "cell_type": "markdown",
   "metadata": {},
   "source": [
    "## Verificar Questões"
   ]
  },
  {
   "cell_type": "markdown",
   "metadata": {},
   "source": [
    "### Entender como está estruturado o texto em cada idioma."
   ]
  },
  {
   "cell_type": "markdown",
   "metadata": {},
   "source": [
    "### Questão em Português"
   ]
  },
  {
   "cell_type": "code",
   "execution_count": 31,
   "metadata": {},
   "outputs": [
    {
     "name": "stdout",
     "output_type": "stream",
     "text": [
      "<p>Se eu fizer o <em><a href=\"http://pt.wikipedia.org/wiki/Fun%C3%A7%C3%A3o_de_embaralhamento_criptogr%C3%A1fico\" rel=\"noreferrer\">hash</a></em> de senhas antes de armazená-las em meu banco de dados é suficiente para evitar que elas sejam recuperadas por alguém?</p>\n",
      "\n",
      "<p>Estou falando apenas da recuperação diretamente do banco de dados e não qualquer outro tipo de ataque, como <a href=\"http://pt.wikipedia.org/wiki/Ataque_de_for%C3%A7a_bruta\" rel=\"noreferrer\">força bruta</a> na página de login da aplicação, <em><a href=\"http://pt.wikipedia.org/wiki/Keylogger\" rel=\"noreferrer\">keylogger</a></em> no cliente e <a href=\"http://pt.wikipedia.org/wiki/Criptoan%C3%A1lise_de_mangueira_de_borracha\" rel=\"noreferrer\">criptoanálise <em>rubberhose</em></a>. Qualquer forma de <em>hash</em> não vai impedir esses ataques.</p>\n",
      "\n",
      "<p>Tenho preocupação em dificultar ou até impossibilitar a obtenção das senhas originais caso o banco de dados seja comprometido. Como dar maior garantia de segurança neste aspecto?</p>\n",
      "\n",
      "<p>Quais preocupações adicionais evitariam o acesso às senhas? Existem formas melhores de fazer esse <em>hash</em>?</p>\n",
      "\n"
     ]
    }
   ],
   "source": [
    "questao_pt = df_pt.Questão[0]\n",
    "print(questao_pt)"
   ]
  },
  {
   "cell_type": "markdown",
   "metadata": {},
   "source": [
    "### Questão Inglês"
   ]
  },
  {
   "cell_type": "code",
   "execution_count": 11,
   "metadata": {},
   "outputs": [
    {
     "name": "stdout",
     "output_type": "stream",
     "text": [
      "<p>Here is a piece of C++ code that seems very peculiar. For some strange reason, sorting the data miraculously makes the code almost six times faster.</p>\n",
      "\n",
      "<pre class=\"lang-cpp prettyprint-override\"><code>#include &lt;algorithm&gt;\n",
      "#include &lt;ctime&gt;\n",
      "#include &lt;iostream&gt;\n",
      "\n",
      "int main()\n",
      "{\n",
      "    // Generate data\n",
      "    const unsigned arraySize = 32768;\n",
      "    int data[arraySize];\n",
      "\n",
      "    for (unsigned c = 0; c &lt; arraySize; ++c)\n",
      "        data[c] = std::rand() % 256;\n",
      "\n",
      "    // !!! With this, the next loop runs faster\n",
      "    std::sort(data, data + arraySize);\n",
      "\n",
      "    // Test\n",
      "    clock_t start = clock();\n",
      "    long long sum = 0;\n",
      "\n",
      "    for (unsigned i = 0; i &lt; 100000; ++i)\n",
      "    {\n",
      "        // Primary loop\n",
      "        for (unsigned c = 0; c &lt; arraySize; ++c)\n",
      "        {\n",
      "            if (data[c] &gt;= 128)\n",
      "                sum += data[c];\n",
      "        }\n",
      "    }\n",
      "\n",
      "    double elapsedTime = static_cast&lt;double&gt;(clock() - start) / CLOCKS_PER_SEC;\n",
      "\n",
      "    std::cout &lt;&lt; elapsedTime &lt;&lt; std::endl;\n",
      "    std::cout &lt;&lt; \"sum = \" &lt;&lt; sum &lt;&lt; std::endl;\n",
      "}\n",
      "</code></pre>\n",
      "\n",
      "<ul>\n",
      "<li>Without <code>std::sort(data, data + arraySize);</code>, the code runs in 11.54 seconds.</li>\n",
      "<li>With the sorted data, the code runs in 1.93 seconds.</li>\n",
      "</ul>\n",
      "\n",
      "<p>Initially, I thought this might be just a language or compiler anomaly. So I tried it in Java.</p>\n",
      "\n",
      "<pre class=\"lang-java prettyprint-override\"><code>import java.util.Arrays;\n",
      "import java.util.Random;\n",
      "\n",
      "public class Main\n",
      "{\n",
      "    public static void main(String[] args)\n",
      "    {\n",
      "        // Generate data\n",
      "        int arraySize = 32768;\n",
      "        int data[] = new int[arraySize];\n",
      "\n",
      "        Random rnd = new Random(0);\n",
      "        for (int c = 0; c &lt; arraySize; ++c)\n",
      "            data[c] = rnd.nextInt() % 256;\n",
      "\n",
      "        // !!! With this, the next loop runs faster\n",
      "        Arrays.sort(data);\n",
      "\n",
      "        // Test\n",
      "        long start = System.nanoTime();\n",
      "        long sum = 0;\n",
      "\n",
      "        for (int i = 0; i &lt; 100000; ++i)\n",
      "        {\n",
      "            // Primary loop\n",
      "            for (int c = 0; c &lt; arraySize; ++c)\n",
      "            {\n",
      "                if (data[c] &gt;= 128)\n",
      "                    sum += data[c];\n",
      "            }\n",
      "        }\n",
      "\n",
      "        System.out.println((System.nanoTime() - start) / 1000000000.0);\n",
      "        System.out.println(\"sum = \" + sum);\n",
      "    }\n",
      "}\n",
      "</code></pre>\n",
      "\n",
      "<p>With a somewhat similar but less extreme result.</p>\n",
      "\n",
      "<hr>\n",
      "\n",
      "<p>My first thought was that sorting brings the data into the cache, but then I thought how silly that is because the array was just generated.</p>\n",
      "\n",
      "<ul>\n",
      "<li>What is going on?</li>\n",
      "<li>Why is it faster to process a sorted array than an unsorted array?</li>\n",
      "<li>The code is summing up some independent terms, and the order should not matter.</li>\n",
      "</ul>\n",
      "\n"
     ]
    }
   ],
   "source": [
    "questao_en = df_en.Questão[0]\n",
    "print(questao_en)"
   ]
  },
  {
   "cell_type": "markdown",
   "metadata": {},
   "source": [
    "### Questão Espanhol"
   ]
  },
  {
   "cell_type": "code",
   "execution_count": 12,
   "metadata": {},
   "outputs": [
    {
     "name": "stdout",
     "output_type": "stream",
     "text": [
      "<p>Las sentencias dinámicas son sentencias SQL que se crean como cadenas de texto (strings) y en las que se insertan/concatenan valores obtenidos de alguna fuente (normalmente proveniente del usuario), lo que puede hacer que sean vulnerables a inyección SQL si no se sanean las entradas, como por ejemplo:</p>\n",
      "\n",
      "<pre><code>$id_usuario = $_POST[\"id\"];\n",
      "\n",
      "mysql_query(\"SELECT * FROM usuarios WHERE id = $id_usuario\");\n",
      "</code></pre>\n",
      "\n",
      "<p>Eso es un ejemplo de una vulnerabilidad grave en la seguridad de una aplicación (web o no) porque si el usuario introdujese un valor como <code>1; DROP TABLE usuarios;--</code> nos encontraríamos con que la sentencia ejecutada sería:</p>\n",
      "\n",
      "<pre><code>SELECT * FROM usuarios WHERE id = 1; DROP TABLE usuarios;--\n",
      "</code></pre>\n",
      "\n",
      "<p>Y se eliminaría la tabla Usuarios con todos los datos contenidos en ella. </p>\n",
      "\n",
      "<p><strong>¿Cómo puedo evitar que la inyección SQL ocurra en PHP?</strong></p>\n",
      "\n"
     ]
    }
   ],
   "source": [
    "questao_es = df_es.Questão[0]\n",
    "print(questao_es)"
   ]
  },
  {
   "cell_type": "markdown",
   "metadata": {},
   "source": [
    "Como queremos analisar somente os caracteres textuais. Precisamos remover \"tags\" dos trechos de código *html* e demais caracteres, como pontuações, códigos, etc."
   ]
  },
  {
   "cell_type": "markdown",
   "metadata": {},
   "source": [
    "### Importando e Verificando *lib re* (regular expressions)"
   ]
  },
  {
   "cell_type": "code",
   "execution_count": 32,
   "metadata": {},
   "outputs": [
    {
     "data": {
      "text/plain": [
       "['<p>',\n",
       " '<em>',\n",
       " '<a href=\"http://pt.wikipedia.org/wiki/Fun%C3%A7%C3%A3o_de_embaralhamento_criptogr%C3%A1fico\" rel=\"noreferrer\">',\n",
       " '</a>',\n",
       " '</em>',\n",
       " '</p>',\n",
       " '<p>',\n",
       " '<a href=\"http://pt.wikipedia.org/wiki/Ataque_de_for%C3%A7a_bruta\" rel=\"noreferrer\">',\n",
       " '</a>',\n",
       " '<em>',\n",
       " '<a href=\"http://pt.wikipedia.org/wiki/Keylogger\" rel=\"noreferrer\">',\n",
       " '</a>',\n",
       " '</em>',\n",
       " '<a href=\"http://pt.wikipedia.org/wiki/Criptoan%C3%A1lise_de_mangueira_de_borracha\" rel=\"noreferrer\">',\n",
       " '<em>',\n",
       " '</em>',\n",
       " '</a>',\n",
       " '<em>',\n",
       " '</em>',\n",
       " '</p>',\n",
       " '<p>',\n",
       " '</p>',\n",
       " '<p>',\n",
       " '<em>',\n",
       " '</em>',\n",
       " '</p>']"
      ]
     },
     "execution_count": 32,
     "metadata": {},
     "output_type": "execute_result"
    }
   ],
   "source": [
    "import re\n",
    "\n",
    "# identificando todas as tags html na questão português\n",
    "re.findall(r\"<.*?>\", questao_pt)"
   ]
  },
  {
   "cell_type": "markdown",
   "metadata": {},
   "source": [
    "### Testando funções para remover e substituir tags *html* e *códigos*"
   ]
  },
  {
   "cell_type": "code",
   "execution_count": 33,
   "metadata": {},
   "outputs": [
    {
     "name": "stdout",
     "output_type": "stream",
     "text": [
      "  T----E----S----T----E  Se eu fizer o   T----E----S----T----E    T----E----S----T----E  hash  T----E----S----T----E    T----E----S----T----E   de senhas antes de armazená-las em meu banco de dados é suficiente para evitar que elas sejam recuperadas por alguém?  T----E----S----T----E  \n",
      "\n",
      "  T----E----S----T----E  Estou falando apenas da recuperação diretamente do banco de dados e não qualquer outro tipo de ataque, como   T----E----S----T----E  força bruta  T----E----S----T----E   na página de login da aplicação,   T----E----S----T----E    T----E----S----T----E  keylogger  T----E----S----T----E    T----E----S----T----E   no cliente e   T----E----S----T----E  criptoanálise   T----E----S----T----E  rubberhose  T----E----S----T----E    T----E----S----T----E  . Qualquer forma de   T----E----S----T----E  hash  T----E----S----T----E   não vai impedir esses ataques.  T----E----S----T----E  \n",
      "\n",
      "  T----E----S----T----E  Tenho preocupação em dificultar ou até impossibilitar a obtenção das senhas originais caso o banco de dados seja comprometido. Como dar maior garantia de segurança neste aspecto?  T----E----S----T----E  \n",
      "\n",
      "  T----E----S----T----E  Quais preocupações adicionais evitariam o acesso às senhas? Existem formas melhores de fazer esse   T----E----S----T----E  hash  T----E----S----T----E  ?  T----E----S----T----E  \n",
      "\n"
     ]
    }
   ],
   "source": [
    "# função sub\n",
    "\n",
    "test_sub = re.sub(r\"<.*?>\", \"  T----E----S----T----E  \", questao_pt)\n",
    "print(test_sub)"
   ]
  },
  {
   "cell_type": "markdown",
   "metadata": {},
   "source": [
    "Obs.: todas as tags e os conteúdos dentro das tags foram excluídos.\n",
    "\n",
    "Próximo passo:\n",
    "- avaliar outras funções de localização e substituição.\n"
   ]
  },
  {
   "cell_type": "code",
   "execution_count": 34,
   "metadata": {},
   "outputs": [
    {
     "data": {
      "text/plain": [
       "<re.Match object; span=(285, 291), match='apenas'>"
      ]
     },
     "execution_count": 34,
     "metadata": {},
     "output_type": "execute_result"
    }
   ],
   "source": [
    "# função search\n",
    "\n",
    "re.search(r\"apenas\", questao_pt)"
   ]
  },
  {
   "cell_type": "code",
   "execution_count": 35,
   "metadata": {},
   "outputs": [
    {
     "data": {
      "text/plain": [
       "re.compile(r'apenas', re.UNICODE)"
      ]
     },
     "execution_count": 35,
     "metadata": {},
     "output_type": "execute_result"
    }
   ],
   "source": [
    "# função compile\n",
    "\n",
    "re.compile(r\"apenas\")"
   ]
  },
  {
   "cell_type": "code",
   "execution_count": null,
   "metadata": {},
   "outputs": [
    {
     "data": {
      "text/plain": [
       "<re.Match object; span=(285, 291), match='apenas'>"
      ]
     },
     "execution_count": 45,
     "metadata": {},
     "output_type": "execute_result"
    }
   ],
   "source": [
    "regex_compile = re.compile(r\"apenas\")\n",
    "regex_compile.search(questao_pt)"
   ]
  },
  {
   "cell_type": "code",
   "execution_count": 46,
   "metadata": {},
   "outputs": [],
   "source": [
    "# verificando tempo das operações\n",
    "\n",
    "from timeit import timeit\n",
    "\n",
    "# criar docstring para verificar"
   ]
  },
  {
   "cell_type": "code",
   "execution_count": null,
   "metadata": {},
   "outputs": [
    {
     "data": {
      "text/plain": [
       "0.5576808000914752"
      ]
     },
     "execution_count": 48,
     "metadata": {},
     "output_type": "execute_result"
    }
   ],
   "source": [
    "setup = \"\"\"import re\"\"\"\n",
    "timeit(\"\"\"re.search(r\"70\", \"9954545448784145470\")\"\"\", setup)"
   ]
  },
  {
   "cell_type": "code",
   "execution_count": 52,
   "metadata": {},
   "outputs": [
    {
     "data": {
      "text/plain": [
       "0.22348000016063452"
      ]
     },
     "execution_count": 52,
     "metadata": {},
     "output_type": "execute_result"
    }
   ],
   "source": [
    "setup = \"\"\"import re\n",
    "regex_compile = re.compile(r\"70\")\"\"\"\n",
    "\n",
    "timeit(\"\"\"regex_compile.search(\"9954545448784145470\")\"\"\", setup)"
   ]
  },
  {
   "cell_type": "markdown",
   "metadata": {},
   "source": [
    "Obs.: Função compile se mostra mais performática\n",
    "\n",
    "- próximo passo, criar função que detecta as *tags html* e substitui por um espaço vazio."
   ]
  },
  {
   "cell_type": "code",
   "execution_count": 53,
   "metadata": {},
   "outputs": [],
   "source": [
    "# função de substituição = .sub()\n",
    "# criar função de remoção\n",
    "\n",
    "def remover(textos, regex):\n",
    "    if type(textos) == str:\n",
    "        return regex.sub(\" \", textos)\n",
    "    else:\n",
    "        return [regex.sub(\" \", textos) for texto in textos]"
   ]
  },
  {
   "cell_type": "code",
   "execution_count": 83,
   "metadata": {},
   "outputs": [
    {
     "name": "stdout",
     "output_type": "stream",
     "text": [
      " Here is a piece of C++ code that seems very peculiar. For some strange reason, sorting the data miraculously makes the code almost six times faster.     #include &lt;algorithm&gt; #include &lt;ctime&gt; #include &lt;iostream&gt;  int main() {     // Generate data     const unsigned arraySize = 32768;     int data[arraySize];      for (unsigned c = 0; c &lt; arraySize; ++c)         data[c] = std::rand() % 256;      // !!! With this, the next loop runs faster     std::sort(data, data + arraySize);      // Test     clock_t start = clock();     long long sum = 0;      for (unsigned i = 0; i &lt; 100000; ++i)     {         // Primary loop         for (unsigned c = 0; c &lt; arraySize; ++c)         {             if (data[c] &gt;= 128)                 sum += data[c];         }     }      double elapsedTime = static_cast&lt;double&gt;(clock() - start) / CLOCKS_PER_SEC;      std::cout &lt;&lt; elapsedTime &lt;&lt; std::endl;     std::cout &lt;&lt; \"sum = \" &lt;&lt; sum &lt;&lt; std::endl; }        Without  std::sort(data, data + arraySize); , the code runs in 11.54 seconds.   With the sorted data, the code runs in 1.93 seconds.      Initially, I thought this might be just a language or compiler anomaly. So I tried it in Java.     import java.util.Arrays; import java.util.Random;  public class Main {     public static void main(String[] args)     {         // Generate data         int arraySize = 32768;         int data[] = new int[arraySize];          Random rnd = new Random(0);         for (int c = 0; c &lt; arraySize; ++c)             data[c] = rnd.nextInt() % 256;          // !!! With this, the next loop runs faster         Arrays.sort(data);          // Test         long start = System.nanoTime();         long sum = 0;          for (int i = 0; i &lt; 100000; ++i)         {             // Primary loop             for (int c = 0; c &lt; arraySize; ++c)             {                 if (data[c] &gt;= 128)                     sum += data[c];             }         }          System.out.println((System.nanoTime() - start) / 1000000000.0);         System.out.println(\"sum = \" + sum);     } }      With a somewhat similar but less extreme result.       My first thought was that sorting brings the data into the cache, but then I thought how silly that is because the array was just generated.      What is going on?   Why is it faster to process a sorted array than an unsorted array?   The code is summing up some independent terms, and the order should not matter.    \n"
     ]
    }
   ],
   "source": [
    "# removendo tags e substituindo\n",
    "regex_html = re.compile(r\"<.*?>|(\\n)\")\n",
    "questao_sem_tag = remover(questao_en, regex_html)\n",
    "print(questao_sem_tag)"
   ]
  },
  {
   "cell_type": "markdown",
   "metadata": {},
   "source": [
    "Função aplicada sem erros. No entanto, queremos remover os trechos de código. Como os códigos estão dentro das *tags* *code* do *html*, precisamos primeiro remover o conteúdo que está dentro das *tags* *code* e posteriormente remover todas as *tags*."
   ]
  },
  {
   "cell_type": "code",
   "execution_count": 84,
   "metadata": {},
   "outputs": [],
   "source": [
    "# função substituir códigos por trecho \"CODE\"\n",
    "\n",
    "def substituir_codigo(textos, regex):\n",
    "    if type(textos) == str:\n",
    "        return regex.sub(\"CODE\", textos)\n",
    "    else:\n",
    "        return [regex.sub(\"CODE\", textos) for texto in textos]"
   ]
  },
  {
   "cell_type": "code",
   "execution_count": 85,
   "metadata": {},
   "outputs": [],
   "source": [
    "# regex para achar o código entre as tags <code></code>\n",
    "\n",
    "regex_codigo = re.compile(r\"<code>(.|(\\n))*?</code>\")"
   ]
  },
  {
   "cell_type": "code",
   "execution_count": 86,
   "metadata": {},
   "outputs": [
    {
     "name": "stdout",
     "output_type": "stream",
     "text": [
      "<p>Here is a piece of C++ code that seems very peculiar. For some strange reason, sorting the data miraculously makes the code almost six times faster.</p>\n",
      "\n",
      "<pre class=\"lang-cpp prettyprint-override\">CODE</pre>\n",
      "\n",
      "<ul>\n",
      "<li>Without CODE, the code runs in 11.54 seconds.</li>\n",
      "<li>With the sorted data, the code runs in 1.93 seconds.</li>\n",
      "</ul>\n",
      "\n",
      "<p>Initially, I thought this might be just a language or compiler anomaly. So I tried it in Java.</p>\n",
      "\n",
      "<pre class=\"lang-java prettyprint-override\">CODE</pre>\n",
      "\n",
      "<p>With a somewhat similar but less extreme result.</p>\n",
      "\n",
      "<hr>\n",
      "\n",
      "<p>My first thought was that sorting brings the data into the cache, but then I thought how silly that is because the array was just generated.</p>\n",
      "\n",
      "<ul>\n",
      "<li>What is going on?</li>\n",
      "<li>Why is it faster to process a sorted array than an unsorted array?</li>\n",
      "<li>The code is summing up some independent terms, and the order should not matter.</li>\n",
      "</ul>\n",
      "\n"
     ]
    }
   ],
   "source": [
    "# verificando funções\n",
    "\n",
    "questao_sem_code = substituir_codigo(questao_en, regex_codigo)\n",
    "print(questao_sem_code)"
   ]
  },
  {
   "cell_type": "markdown",
   "metadata": {},
   "source": [
    "códigos removidos. Utilizar funções de remoção para criar coluna com os textos tratados (sem *tags* e sem códigos)"
   ]
  },
  {
   "cell_type": "markdown",
   "metadata": {},
   "source": [
    "## Criando coluna com textos limpos"
   ]
  },
  {
   "cell_type": "code",
   "execution_count": 87,
   "metadata": {},
   "outputs": [],
   "source": [
    "# Substituindo códigos específicos por \"CODE\"\n",
    "questao_pt_sem_code = df_pt[\"Questão\"].apply(lambda texto: regex_codigo.sub(\"CODE\", texto))\n",
    "\n",
    "# Removendo tags HTML dos textos\n",
    "questao_pt_sem_code_sem_tag = questao_pt_sem_code.apply(lambda texto: regex_html.sub(\"\", texto))\n",
    "\n",
    "# Adicionando a nova coluna com os textos limpos ao DataFrame\n",
    "df_pt[\"sem_code_tag\"] = questao_pt_sem_code_sem_tag"
   ]
  },
  {
   "cell_type": "code",
   "execution_count": 95,
   "metadata": {},
   "outputs": [
    {
     "name": "stdout",
     "output_type": "stream",
     "text": [
      "Se eu fizer o hash de senhas antes de armazená-las em meu banco de dados é suficiente para evitar que elas sejam recuperadas por alguém?Estou falando apenas da recuperação diretamente do banco de dados e não qualquer outro tipo de ataque, como força bruta na página de login da aplicação, keylogger no cliente e criptoanálise rubberhose. Qualquer forma de hash não vai impedir esses ataques.Tenho preocupação em dificultar ou até impossibilitar a obtenção das senhas originais caso o banco de dados seja comprometido. Como dar maior garantia de segurança neste aspecto?Quais preocupações adicionais evitariam o acesso às senhas? Existem formas melhores de fazer esse hash?\n"
     ]
    }
   ],
   "source": [
    "print(df_pt.sem_code_tag[0])"
   ]
  },
  {
   "cell_type": "code",
   "execution_count": 89,
   "metadata": {},
   "outputs": [],
   "source": [
    "# Substituindo códigos específicos por \"CODE\"\n",
    "questao_en_sem_code = df_en[\"Questão\"].apply(lambda texto: regex_codigo.sub(\"CODE\", texto))\n",
    "\n",
    "# Removendo tags HTML dos textos\n",
    "questao_en_sem_code_sem_tag = questao_en_sem_code.apply(lambda texto: regex_html.sub(\"\", texto))\n",
    "\n",
    "# Adicionando a nova coluna com os textos limpos ao DataFrame\n",
    "df_en[\"sem_code_tag\"] = questao_en_sem_code_sem_tag"
   ]
  },
  {
   "cell_type": "code",
   "execution_count": 94,
   "metadata": {},
   "outputs": [
    {
     "name": "stdout",
     "output_type": "stream",
     "text": [
      "Here is a piece of C++ code that seems very peculiar. For some strange reason, sorting the data miraculously makes the code almost six times faster.CODEWithout CODE, the code runs in 11.54 seconds.With the sorted data, the code runs in 1.93 seconds.Initially, I thought this might be just a language or compiler anomaly. So I tried it in Java.CODEWith a somewhat similar but less extreme result.My first thought was that sorting brings the data into the cache, but then I thought how silly that is because the array was just generated.What is going on?Why is it faster to process a sorted array than an unsorted array?The code is summing up some independent terms, and the order should not matter.\n"
     ]
    }
   ],
   "source": [
    "print(df_en.sem_code_tag[0])"
   ]
  },
  {
   "cell_type": "code",
   "execution_count": 91,
   "metadata": {},
   "outputs": [],
   "source": [
    "# Substituindo códigos específicos por \"CODE\"\n",
    "questao_es_sem_code = df_es[\"Questão\"].apply(lambda texto: regex_codigo.sub(\"CODE\", texto))\n",
    "\n",
    "# Removendo tags HTML dos textos\n",
    "questao_es_sem_code_sem_tag = questao_es_sem_code.apply(lambda texto: regex_html.sub(\"\", texto))\n",
    "\n",
    "# Adicionando a nova coluna com os textos limpos ao DataFrame\n",
    "df_es[\"sem_code_tag\"] = questao_es_sem_code_sem_tag"
   ]
  },
  {
   "cell_type": "code",
   "execution_count": 93,
   "metadata": {},
   "outputs": [
    {
     "name": "stdout",
     "output_type": "stream",
     "text": [
      "Las sentencias dinámicas son sentencias SQL que se crean como cadenas de texto (strings) y en las que se insertan/concatenan valores obtenidos de alguna fuente (normalmente proveniente del usuario), lo que puede hacer que sean vulnerables a inyección SQL si no se sanean las entradas, como por ejemplo:CODEEso es un ejemplo de una vulnerabilidad grave en la seguridad de una aplicación (web o no) porque si el usuario introdujese un valor como CODE nos encontraríamos con que la sentencia ejecutada sería:CODEY se eliminaría la tabla Usuarios con todos los datos contenidos en ella. ¿Cómo puedo evitar que la inyección SQL ocurra en PHP?\n"
     ]
    }
   ],
   "source": [
    "print(df_es.sem_code_tag[0])"
   ]
  },
  {
   "cell_type": "markdown",
   "metadata": {},
   "source": [
    "### removendo pontuações, dígitos e colocando os textos em minúsculo"
   ]
  },
  {
   "cell_type": "code",
   "execution_count": 96,
   "metadata": {},
   "outputs": [],
   "source": [
    "# Removendo pontuações e dígitos com regex\n",
    "questao_pt_sem_pontuacao_digitos = questao_pt_sem_code_sem_tag.apply(\n",
    "    lambda texto: re.sub(r\"[^\\w\\s]|[\\d]\", \"\", texto)  # Remove pontuações e dígitos\n",
    ")\n",
    "\n",
    "# Convertendo para minúsculas\n",
    "questao_pt_limpa = questao_pt_sem_pontuacao_digitos.apply(lambda texto: texto.lower())\n",
    "\n",
    "# Adicionando ao DataFrame\n",
    "df_pt[\"sem_code_tag_clean\"] = questao_pt_limpa"
   ]
  },
  {
   "cell_type": "code",
   "execution_count": 106,
   "metadata": {},
   "outputs": [
    {
     "name": "stdout",
     "output_type": "stream",
     "text": [
      "se eu fizer o hash de senhas antes de armazenálas em meu banco de dados é suficiente para evitar que elas sejam recuperadas por alguémestou falando apenas da recuperação diretamente do banco de dados e não qualquer outro tipo de ataque como força bruta na página de login da aplicação keylogger no cliente e criptoanálise rubberhose qualquer forma de hash não vai impedir esses ataquestenho preocupação em dificultar ou até impossibilitar a obtenção das senhas originais caso o banco de dados seja comprometido como dar maior garantia de segurança neste aspectoquais preocupações adicionais evitariam o acesso às senhas existem formas melhores de fazer esse hash\n"
     ]
    }
   ],
   "source": [
    "print(df_pt.sem_code_tag_clean[0])"
   ]
  },
  {
   "cell_type": "code",
   "execution_count": 97,
   "metadata": {},
   "outputs": [],
   "source": [
    "# Removendo pontuações e dígitos com regex\n",
    "questao_en_sem_pontuacao_digitos = questao_en_sem_code_sem_tag.apply(\n",
    "    lambda texto: re.sub(r\"[^\\w\\s]|[\\d]\", \"\", texto)  # Remove pontuações e dígitos\n",
    ")\n",
    "\n",
    "# Convertendo para minúsculas\n",
    "questao_en_limpa = questao_en_sem_pontuacao_digitos.apply(lambda texto: texto.lower())\n",
    "\n",
    "# Adicionando ao DataFrame\n",
    "df_en[\"sem_code_tag_clean\"] = questao_en_limpa"
   ]
  },
  {
   "cell_type": "code",
   "execution_count": 105,
   "metadata": {},
   "outputs": [
    {
     "name": "stdout",
     "output_type": "stream",
     "text": [
      "here is a piece of c code that seems very peculiar for some strange reason sorting the data miraculously makes the code almost six times fastercodewithout code the code runs in  secondswith the sorted data the code runs in  secondsinitially i thought this might be just a language or compiler anomaly so i tried it in javacodewith a somewhat similar but less extreme resultmy first thought was that sorting brings the data into the cache but then i thought how silly that is because the array was just generatedwhat is going onwhy is it faster to process a sorted array than an unsorted arraythe code is summing up some independent terms and the order should not matter\n"
     ]
    }
   ],
   "source": [
    "print(df_en.sem_code_tag_clean[0])"
   ]
  },
  {
   "cell_type": "code",
   "execution_count": 102,
   "metadata": {},
   "outputs": [],
   "source": [
    "# Removendo pontuações e dígitos com regex\n",
    "questao_es_sem_pontuacao_digitos = questao_es_sem_code_sem_tag.apply(\n",
    "    lambda texto: re.sub(r\"[^\\w\\s]|[\\d]\", \"\", texto)  # Remove pontuações e dígitos\n",
    ")\n",
    "\n",
    "# Convertendo para minúsculas\n",
    "questao_es_limpa = questao_es_sem_pontuacao_digitos.apply(lambda texto: texto.lower())\n",
    "\n",
    "# Adicionando ao DataFrame\n",
    "df_es[\"sem_code_tag_clean\"] = questao_es_limpa"
   ]
  },
  {
   "cell_type": "code",
   "execution_count": 104,
   "metadata": {},
   "outputs": [
    {
     "name": "stdout",
     "output_type": "stream",
     "text": [
      "las sentencias dinámicas son sentencias sql que se crean como cadenas de texto strings y en las que se insertanconcatenan valores obtenidos de alguna fuente normalmente proveniente del usuario lo que puede hacer que sean vulnerables a inyección sql si no se sanean las entradas como por ejemplocodeeso es un ejemplo de una vulnerabilidad grave en la seguridad de una aplicación web o no porque si el usuario introdujese un valor como code nos encontraríamos con que la sentencia ejecutada seríacodey se eliminaría la tabla usuarios con todos los datos contenidos en ella cómo puedo evitar que la inyección sql ocurra en php\n"
     ]
    }
   ],
   "source": [
    "print(df_es.sem_code_tag_clean[0])"
   ]
  },
  {
   "cell_type": "code",
   "execution_count": null,
   "metadata": {},
   "outputs": [],
   "source": []
  }
 ],
 "metadata": {
  "kernelspec": {
   "display_name": "Python 3",
   "language": "python",
   "name": "python3"
  },
  "language_info": {
   "codemirror_mode": {
    "name": "ipython",
    "version": 3
   },
   "file_extension": ".py",
   "mimetype": "text/x-python",
   "name": "python",
   "nbconvert_exporter": "python",
   "pygments_lexer": "ipython3",
   "version": "3.13.0"
  }
 },
 "nbformat": 4,
 "nbformat_minor": 2
}
