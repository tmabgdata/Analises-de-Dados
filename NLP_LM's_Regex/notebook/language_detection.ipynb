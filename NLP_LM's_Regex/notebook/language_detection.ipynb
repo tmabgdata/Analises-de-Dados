{
 "cells": [
  {
   "cell_type": "markdown",
   "metadata": {},
   "source": [
    "# Language Detection Using Regex and Machine Learning"
   ]
  },
  {
   "cell_type": "markdown",
   "metadata": {},
   "source": [
    "## Initial Analysis of Language Datasets"
   ]
  },
  {
   "cell_type": "code",
   "execution_count": 15,
   "metadata": {},
   "outputs": [],
   "source": [
    "path_es = \"../data/stackoverflow_espanhol.csv\"\n",
    "path_en = \"../data/stackoverflow_ingles.csv\"\n",
    "path_pt = \"../data/stackoverflow_portugues.csv\""
   ]
  },
  {
   "cell_type": "markdown",
   "metadata": {},
   "source": [
    "### Analysis of Portuguese Dataset"
   ]
  },
  {
   "cell_type": "code",
   "execution_count": 18,
   "metadata": {},
   "outputs": [
    {
     "name": "stdout",
     "output_type": "stream",
     "text": [
      "Portuguese Dataset Overview:\n",
      "\n",
      "<class 'pandas.core.frame.DataFrame'>\n",
      "RangeIndex: 500 entries, 0 to 499\n",
      "Data columns (total 6 columns):\n",
      " #   Column         Non-Null Count  Dtype \n",
      "---  ------         --------------  ----- \n",
      " 0   Id             500 non-null    int64 \n",
      " 1   Título         500 non-null    object\n",
      " 2   Questão        500 non-null    object\n",
      " 3   Tags           500 non-null    object\n",
      " 4   Pontuação      500 non-null    int64 \n",
      " 5   Visualizações  500 non-null    int64 \n",
      "dtypes: int64(3), object(3)\n",
      "memory usage: 23.6+ KB\n",
      "None \n",
      "\n",
      "-------------------------------------------------- \n",
      "\n",
      "      Id                                             Título  \\\n",
      "0   2402         Como fazer hash de senhas de forma segura?   \n",
      "1   6441  Qual é a diferença entre INNER JOIN e OUTER JOIN?   \n",
      "2    579  Por que não devemos usar funções do tipo mysql_*?   \n",
      "3   2539           As mensagens de erro devem se desculpar?   \n",
      "4  17501  Qual é a diferença de API, biblioteca e Framew...   \n",
      "\n",
      "                                             Questão  \\\n",
      "0  <p>Se eu fizer o <em><a href=\"http://pt.wikipe...   \n",
      "1  <p>Qual é a diferença entre <code>INNER JOIN</...   \n",
      "2  <p>Uma dúvida muito comum é por que devemos pa...   \n",
      "3  <p>É comum encontrar uma mensagem de erro que ...   \n",
      "4  <p>Me parecem termos muito próximos e eventual...   \n",
      "\n",
      "                                         Tags  Pontuação  Visualizações  \n",
      "0     <hash><segurança><senhas><criptografia>        350          22367  \n",
      "1                                 <sql><join>        276         176953  \n",
      "2                                <php><mysql>        226           9761  \n",
      "3           <aplicação-web><gui><console><ux>        214           5075  \n",
      "4  <api><framework><terminologia><biblioteca>        193          54191  \n"
     ]
    }
   ],
   "source": [
    "df_pt = pd.read_csv(path_pt)\n",
    "\n",
    "# Display basic information and head of the dataset\n",
    "print(\"Portuguese Dataset Overview:\\n\")\n",
    "print(df_pt.info(), \"\\n\")\n",
    "print(\"-\"*50, \"\\n\")\n",
    "print(df_pt.head())"
   ]
  },
  {
   "cell_type": "markdown",
   "metadata": {},
   "source": [
    "### Analysis of English Dataset"
   ]
  },
  {
   "cell_type": "code",
   "execution_count": 20,
   "metadata": {},
   "outputs": [
    {
     "name": "stdout",
     "output_type": "stream",
     "text": [
      "English Dataset Overview:\n",
      "\n",
      "<class 'pandas.core.frame.DataFrame'>\n",
      "RangeIndex: 500 entries, 0 to 499\n",
      "Data columns (total 6 columns):\n",
      " #   Column         Non-Null Count  Dtype \n",
      "---  ------         --------------  ----- \n",
      " 0   Id             500 non-null    int64 \n",
      " 1   Título         500 non-null    object\n",
      " 2   Questão        500 non-null    object\n",
      " 3   Tags           500 non-null    object\n",
      " 4   Pontuação      500 non-null    int64 \n",
      " 5   Visualizações  500 non-null    int64 \n",
      "dtypes: int64(3), object(3)\n",
      "memory usage: 23.6+ KB\n",
      "None \n",
      "\n",
      "-------------------------------------------------- \n",
      "\n",
      "         Id                                             Título  \\\n",
      "0  11227809  Why is it faster to process a sorted array tha...   \n",
      "1    927358  How do I undo the most recent local commits in...   \n",
      "2   2003505  How do I delete a Git branch locally and remot...   \n",
      "3    292357  What is the difference between 'git pull' and ...   \n",
      "4    477816             What is the correct JSON content type?   \n",
      "\n",
      "                                             Questão  \\\n",
      "0  <p>Here is a piece of C++ code that seems very...   \n",
      "1  <p>I accidentally committed the wrong files to...   \n",
      "2  <p>I want to delete a branch both locally and ...   \n",
      "3  <blockquote>\\n  <p><strong>Moderator Note:</st...   \n",
      "4  <p>I've been messing around with <a href=\"http...   \n",
      "\n",
      "                                                Tags  Pontuação  Visualizações  \n",
      "0  <java><c++><performance><optimization><branch-...      23057        1358574  \n",
      "1           <git><version-control><git-commit><undo>      19640        7906137  \n",
      "2                      <git><git-branch><git-remote>      15249        6940906  \n",
      "3                         <git><git-pull><git-fetch>      11008        2543052  \n",
      "4                 <json><http-headers><content-type>       9701        2478940  \n"
     ]
    }
   ],
   "source": [
    "df_en = pd.read_csv(path_en)\n",
    "\n",
    "# Display basic information and head of the dataset\n",
    "print(\"English Dataset Overview:\\n\")\n",
    "print(df_en.info(), \"\\n\")\n",
    "print(\"-\"*50, \"\\n\")\n",
    "print(df_en.head())"
   ]
  },
  {
   "cell_type": "markdown",
   "metadata": {},
   "source": [
    "### Analysis of Spanish Dataset"
   ]
  },
  {
   "cell_type": "code",
   "execution_count": 30,
   "metadata": {},
   "outputs": [
    {
     "name": "stdout",
     "output_type": "stream",
     "text": [
      "Spanish Dataset Overview:\n",
      "\n",
      "<class 'pandas.core.frame.DataFrame'>\n",
      "RangeIndex: 500 entries, 0 to 499\n",
      "Data columns (total 6 columns):\n",
      " #   Column         Non-Null Count  Dtype \n",
      "---  ------         --------------  ----- \n",
      " 0   Id             500 non-null    int64 \n",
      " 1   Título         500 non-null    object\n",
      " 2   Questão        500 non-null    object\n",
      " 3   Tags           500 non-null    object\n",
      " 4   Pontuação      500 non-null    int64 \n",
      " 5   Visualizações  500 non-null    int64 \n",
      "dtypes: int64(3), object(3)\n",
      "memory usage: 23.6+ KB\n",
      "None \n",
      "\n",
      "-------------------------------------------------- \n",
      "\n",
      "      Id                                             Título  \\\n",
      "0  18232              ¿Cómo evitar la inyección SQL en PHP?   \n",
      "1    197  ¿Por qué mis programas no pueden hacer cálculo...   \n",
      "2     36  ¿Cuál es la diferencia entre un inner y un out...   \n",
      "3  29177  ¿Por qué es considerado una mala práctica util...   \n",
      "4    142  Validar un email en JavaScript que acepte todo...   \n",
      "\n",
      "                                             Questão  \\\n",
      "0  <p>Las sentencias dinámicas son sentencias SQL...   \n",
      "1  <p>Unas veces los cálculos funcionan correctam...   \n",
      "2  <p>¿Cuál es la diferencia entre un <code>inner...   \n",
      "3  <p>La mayoría de nosotros decimos, (muchas vec...   \n",
      "4  <h3>Pregunta</h3>\\n\\n<p>¿Cómo validar un e-mai...   \n",
      "\n",
      "                                                Tags  Pontuação  Visualizações  \n",
      "0        <php><mysql><sql><seguridad><inyección-sql>        169          38614  \n",
      "1   <matemáticas><coma-flotante><lenguaje-agnóstico>        141           3860  \n",
      "2                                 <mysql><sql><join>         97          53627  \n",
      "3  <variables><variables-globales><patrones-de-di...         89           9987  \n",
      "4             <javascript><validación><email><regex>         87          73129   \n",
      "\n"
     ]
    }
   ],
   "source": [
    "df_es = pd.read_csv(path_es, encoding=\"ISO-8859-1\", sep=\";\")\n",
    "\n",
    "\n",
    "# Display basic information and head of the dataset\n",
    "print(\"Spanish Dataset Overview:\\n\")\n",
    "print(df_es.info(), \"\\n\")\n",
    "print(\"-\"*50, \"\\n\")\n",
    "print(df_es.head(), \"\\n\")"
   ]
  },
  {
   "cell_type": "code",
   "execution_count": null,
   "metadata": {},
   "outputs": [],
   "source": []
  }
 ],
 "metadata": {
  "kernelspec": {
   "display_name": "Python 3",
   "language": "python",
   "name": "python3"
  },
  "language_info": {
   "codemirror_mode": {
    "name": "ipython",
    "version": 3
   },
   "file_extension": ".py",
   "mimetype": "text/x-python",
   "name": "python",
   "nbconvert_exporter": "python",
   "pygments_lexer": "ipython3",
   "version": "3.13.0"
  }
 },
 "nbformat": 4,
 "nbformat_minor": 2
}
