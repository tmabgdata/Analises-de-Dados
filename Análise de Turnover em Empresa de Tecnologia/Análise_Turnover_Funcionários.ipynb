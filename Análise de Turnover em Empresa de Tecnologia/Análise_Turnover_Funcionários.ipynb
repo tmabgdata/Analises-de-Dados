{
 "cells": [
  {
   "cell_type": "markdown",
   "metadata": {
    "id": "qOtYrhTUrOg_"
   },
   "source": [
    "# Análise de Turnover de Funcionários em uma Empresa de Tecnologia"
   ]
  },
  {
   "cell_type": "markdown",
   "metadata": {
    "id": "5Na7ohPltmtb"
   },
   "source": [
    "A análise de turnover é uma ferramenta crucial para entender a rotatividade de funcionários em uma organização. Neste estudo, examinamos a taxa de turnover em uma empresa de tecnologia e exploramos como diferentes fatores podem influenciar essa métrica. Ao analisar aspectos qualitativos e quantitativos, buscamos insights que possam orientar estratégias de retenção de talentos e aprimorar o ambiente de trabalho."
   ]
  },
  {
   "cell_type": "markdown",
   "metadata": {
    "id": "IVPkc77PrUoE"
   },
   "source": [
    "### Perfil dos Funcionários e Taxa de Turnover"
   ]
  },
  {
   "cell_type": "code",
   "execution_count": 2,
   "metadata": {
    "colab": {
     "base_uri": "https://localhost:8080/",
     "height": 404
    },
    "id": "3XsiHdFOmgTf",
    "outputId": "bb8f9e5e-47d7-4d22-bf5d-94f52e42027d"
   },
   "outputs": [
    {
     "data": {
      "text/html": [
       "\n",
       "\n",
       "  <div id=\"df-e3599af4-c9c8-4f8a-bb54-28df152d1e0d\">\n",
       "    <div class=\"colab-df-container\">\n",
       "      <div>\n",
       "<style scoped>\n",
       "    .dataframe tbody tr th:only-of-type {\n",
       "        vertical-align: middle;\n",
       "    }\n",
       "\n",
       "    .dataframe tbody tr th {\n",
       "        vertical-align: top;\n",
       "    }\n",
       "\n",
       "    .dataframe thead th {\n",
       "        text-align: right;\n",
       "    }\n",
       "</style>\n",
       "<table border=\"1\" class=\"dataframe\">\n",
       "  <thead>\n",
       "    <tr style=\"text-align: right;\">\n",
       "      <th></th>\n",
       "      <th>ID</th>\n",
       "      <th>Funcionário_deixou_a_empresa</th>\n",
       "      <th>Idade</th>\n",
       "      <th>Frequência de Viagens</th>\n",
       "      <th>Distância_do_trabalho</th>\n",
       "      <th>Formação</th>\n",
       "      <th>E-Sat</th>\n",
       "      <th>Gênero</th>\n",
       "      <th>Estado_Civil</th>\n",
       "      <th>Salário</th>\n",
       "      <th>...</th>\n",
       "      <th>Faz_hora_extras?</th>\n",
       "      <th>Perc_de_aumento</th>\n",
       "      <th>Qte_ações_da_empresa</th>\n",
       "      <th>Tempo_de_carreira</th>\n",
       "      <th>Horas_de_treinamento</th>\n",
       "      <th>Equilibrio_de_Vida</th>\n",
       "      <th>Tempo_de_empresa</th>\n",
       "      <th>Anos_no_mesmo_cargo</th>\n",
       "      <th>Anos_desde_a_ultima_promocao</th>\n",
       "      <th>Anos_com_o_mesmo_chefe</th>\n",
       "    </tr>\n",
       "  </thead>\n",
       "  <tbody>\n",
       "    <tr>\n",
       "      <th>0</th>\n",
       "      <td>1</td>\n",
       "      <td>Sim</td>\n",
       "      <td>41</td>\n",
       "      <td>Viaja raramente</td>\n",
       "      <td>1</td>\n",
       "      <td>Ensino Técnico</td>\n",
       "      <td>Médio</td>\n",
       "      <td>M</td>\n",
       "      <td>Solteiro</td>\n",
       "      <td>5993</td>\n",
       "      <td>...</td>\n",
       "      <td>Sim</td>\n",
       "      <td>11</td>\n",
       "      <td>0</td>\n",
       "      <td>8</td>\n",
       "      <td>0</td>\n",
       "      <td>Ruim</td>\n",
       "      <td>6</td>\n",
       "      <td>4</td>\n",
       "      <td>0</td>\n",
       "      <td>5</td>\n",
       "    </tr>\n",
       "    <tr>\n",
       "      <th>1</th>\n",
       "      <td>2</td>\n",
       "      <td>Não</td>\n",
       "      <td>49</td>\n",
       "      <td>Viaja frequentemente</td>\n",
       "      <td>8</td>\n",
       "      <td>Ensino Médio</td>\n",
       "      <td>Alto</td>\n",
       "      <td>H</td>\n",
       "      <td>Casado</td>\n",
       "      <td>5130</td>\n",
       "      <td>...</td>\n",
       "      <td>Não</td>\n",
       "      <td>23</td>\n",
       "      <td>1</td>\n",
       "      <td>10</td>\n",
       "      <td>3</td>\n",
       "      <td>Muito bom</td>\n",
       "      <td>10</td>\n",
       "      <td>7</td>\n",
       "      <td>1</td>\n",
       "      <td>7</td>\n",
       "    </tr>\n",
       "    <tr>\n",
       "      <th>2</th>\n",
       "      <td>3</td>\n",
       "      <td>Sim</td>\n",
       "      <td>37</td>\n",
       "      <td>Viaja raramente</td>\n",
       "      <td>2</td>\n",
       "      <td>Ensino Técnico</td>\n",
       "      <td>Muito Alto</td>\n",
       "      <td>H</td>\n",
       "      <td>Solteiro</td>\n",
       "      <td>2090</td>\n",
       "      <td>...</td>\n",
       "      <td>Sim</td>\n",
       "      <td>15</td>\n",
       "      <td>0</td>\n",
       "      <td>7</td>\n",
       "      <td>3</td>\n",
       "      <td>Muito bom</td>\n",
       "      <td>0</td>\n",
       "      <td>0</td>\n",
       "      <td>0</td>\n",
       "      <td>0</td>\n",
       "    </tr>\n",
       "    <tr>\n",
       "      <th>3</th>\n",
       "      <td>4</td>\n",
       "      <td>Não</td>\n",
       "      <td>33</td>\n",
       "      <td>Viaja frequentemente</td>\n",
       "      <td>3</td>\n",
       "      <td>Mestrado</td>\n",
       "      <td>Muito Alto</td>\n",
       "      <td>M</td>\n",
       "      <td>Casado</td>\n",
       "      <td>2909</td>\n",
       "      <td>...</td>\n",
       "      <td>Sim</td>\n",
       "      <td>11</td>\n",
       "      <td>0</td>\n",
       "      <td>8</td>\n",
       "      <td>3</td>\n",
       "      <td>Muito bom</td>\n",
       "      <td>8</td>\n",
       "      <td>7</td>\n",
       "      <td>3</td>\n",
       "      <td>0</td>\n",
       "    </tr>\n",
       "    <tr>\n",
       "      <th>4</th>\n",
       "      <td>5</td>\n",
       "      <td>Não</td>\n",
       "      <td>27</td>\n",
       "      <td>Viaja raramente</td>\n",
       "      <td>2</td>\n",
       "      <td>Ensino Médio</td>\n",
       "      <td>Baixo</td>\n",
       "      <td>H</td>\n",
       "      <td>Casado</td>\n",
       "      <td>3468</td>\n",
       "      <td>...</td>\n",
       "      <td>Não</td>\n",
       "      <td>12</td>\n",
       "      <td>1</td>\n",
       "      <td>6</td>\n",
       "      <td>3</td>\n",
       "      <td>Muito bom</td>\n",
       "      <td>2</td>\n",
       "      <td>2</td>\n",
       "      <td>2</td>\n",
       "      <td>2</td>\n",
       "    </tr>\n",
       "  </tbody>\n",
       "</table>\n",
       "<p>5 rows × 21 columns</p>\n",
       "</div>\n",
       "      <button class=\"colab-df-convert\" onclick=\"convertToInteractive('df-e3599af4-c9c8-4f8a-bb54-28df152d1e0d')\"\n",
       "              title=\"Convert this dataframe to an interactive table.\"\n",
       "              style=\"display:none;\">\n",
       "\n",
       "  <svg xmlns=\"http://www.w3.org/2000/svg\" height=\"24px\"viewBox=\"0 0 24 24\"\n",
       "       width=\"24px\">\n",
       "    <path d=\"M0 0h24v24H0V0z\" fill=\"none\"/>\n",
       "    <path d=\"M18.56 5.44l.94 2.06.94-2.06 2.06-.94-2.06-.94-.94-2.06-.94 2.06-2.06.94zm-11 1L8.5 8.5l.94-2.06 2.06-.94-2.06-.94L8.5 2.5l-.94 2.06-2.06.94zm10 10l.94 2.06.94-2.06 2.06-.94-2.06-.94-.94-2.06-.94 2.06-2.06.94z\"/><path d=\"M17.41 7.96l-1.37-1.37c-.4-.4-.92-.59-1.43-.59-.52 0-1.04.2-1.43.59L10.3 9.45l-7.72 7.72c-.78.78-.78 2.05 0 2.83L4 21.41c.39.39.9.59 1.41.59.51 0 1.02-.2 1.41-.59l7.78-7.78 2.81-2.81c.8-.78.8-2.07 0-2.86zM5.41 20L4 18.59l7.72-7.72 1.47 1.35L5.41 20z\"/>\n",
       "  </svg>\n",
       "      </button>\n",
       "\n",
       "\n",
       "\n",
       "    <div id=\"df-7d9d29cc-5c11-49df-8a8c-06523ed9185f\">\n",
       "      <button class=\"colab-df-quickchart\" onclick=\"quickchart('df-7d9d29cc-5c11-49df-8a8c-06523ed9185f')\"\n",
       "              title=\"Suggest charts.\"\n",
       "              style=\"display:none;\">\n",
       "\n",
       "<svg xmlns=\"http://www.w3.org/2000/svg\" height=\"24px\"viewBox=\"0 0 24 24\"\n",
       "     width=\"24px\">\n",
       "    <g>\n",
       "        <path d=\"M19 3H5c-1.1 0-2 .9-2 2v14c0 1.1.9 2 2 2h14c1.1 0 2-.9 2-2V5c0-1.1-.9-2-2-2zM9 17H7v-7h2v7zm4 0h-2V7h2v10zm4 0h-2v-4h2v4z\"/>\n",
       "    </g>\n",
       "</svg>\n",
       "      </button>\n",
       "    </div>\n",
       "\n",
       "<style>\n",
       "  .colab-df-quickchart {\n",
       "    background-color: #E8F0FE;\n",
       "    border: none;\n",
       "    border-radius: 50%;\n",
       "    cursor: pointer;\n",
       "    display: none;\n",
       "    fill: #1967D2;\n",
       "    height: 32px;\n",
       "    padding: 0 0 0 0;\n",
       "    width: 32px;\n",
       "  }\n",
       "\n",
       "  .colab-df-quickchart:hover {\n",
       "    background-color: #E2EBFA;\n",
       "    box-shadow: 0px 1px 2px rgba(60, 64, 67, 0.3), 0px 1px 3px 1px rgba(60, 64, 67, 0.15);\n",
       "    fill: #174EA6;\n",
       "  }\n",
       "\n",
       "  [theme=dark] .colab-df-quickchart {\n",
       "    background-color: #3B4455;\n",
       "    fill: #D2E3FC;\n",
       "  }\n",
       "\n",
       "  [theme=dark] .colab-df-quickchart:hover {\n",
       "    background-color: #434B5C;\n",
       "    box-shadow: 0px 1px 3px 1px rgba(0, 0, 0, 0.15);\n",
       "    filter: drop-shadow(0px 1px 2px rgba(0, 0, 0, 0.3));\n",
       "    fill: #FFFFFF;\n",
       "  }\n",
       "</style>\n",
       "\n",
       "    <script>\n",
       "      async function quickchart(key) {\n",
       "        const containerElement = document.querySelector('#' + key);\n",
       "        const charts = await google.colab.kernel.invokeFunction(\n",
       "            'suggestCharts', [key], {});\n",
       "      }\n",
       "    </script>\n",
       "\n",
       "      <script>\n",
       "\n",
       "function displayQuickchartButton(domScope) {\n",
       "  let quickchartButtonEl =\n",
       "    domScope.querySelector('#df-7d9d29cc-5c11-49df-8a8c-06523ed9185f button.colab-df-quickchart');\n",
       "  quickchartButtonEl.style.display =\n",
       "    google.colab.kernel.accessAllowed ? 'block' : 'none';\n",
       "}\n",
       "\n",
       "        displayQuickchartButton(document);\n",
       "      </script>\n",
       "      <style>\n",
       "    .colab-df-container {\n",
       "      display:flex;\n",
       "      flex-wrap:wrap;\n",
       "      gap: 12px;\n",
       "    }\n",
       "\n",
       "    .colab-df-convert {\n",
       "      background-color: #E8F0FE;\n",
       "      border: none;\n",
       "      border-radius: 50%;\n",
       "      cursor: pointer;\n",
       "      display: none;\n",
       "      fill: #1967D2;\n",
       "      height: 32px;\n",
       "      padding: 0 0 0 0;\n",
       "      width: 32px;\n",
       "    }\n",
       "\n",
       "    .colab-df-convert:hover {\n",
       "      background-color: #E2EBFA;\n",
       "      box-shadow: 0px 1px 2px rgba(60, 64, 67, 0.3), 0px 1px 3px 1px rgba(60, 64, 67, 0.15);\n",
       "      fill: #174EA6;\n",
       "    }\n",
       "\n",
       "    [theme=dark] .colab-df-convert {\n",
       "      background-color: #3B4455;\n",
       "      fill: #D2E3FC;\n",
       "    }\n",
       "\n",
       "    [theme=dark] .colab-df-convert:hover {\n",
       "      background-color: #434B5C;\n",
       "      box-shadow: 0px 1px 3px 1px rgba(0, 0, 0, 0.15);\n",
       "      filter: drop-shadow(0px 1px 2px rgba(0, 0, 0, 0.3));\n",
       "      fill: #FFFFFF;\n",
       "    }\n",
       "  </style>\n",
       "\n",
       "      <script>\n",
       "        const buttonEl =\n",
       "          document.querySelector('#df-e3599af4-c9c8-4f8a-bb54-28df152d1e0d button.colab-df-convert');\n",
       "        buttonEl.style.display =\n",
       "          google.colab.kernel.accessAllowed ? 'block' : 'none';\n",
       "\n",
       "        async function convertToInteractive(key) {\n",
       "          const element = document.querySelector('#df-e3599af4-c9c8-4f8a-bb54-28df152d1e0d');\n",
       "          const dataTable =\n",
       "            await google.colab.kernel.invokeFunction('convertToInteractive',\n",
       "                                                     [key], {});\n",
       "          if (!dataTable) return;\n",
       "\n",
       "          const docLinkHtml = 'Like what you see? Visit the ' +\n",
       "            '<a target=\"_blank\" href=https://colab.research.google.com/notebooks/data_table.ipynb>data table notebook</a>'\n",
       "            + ' to learn more about interactive tables.';\n",
       "          element.innerHTML = '';\n",
       "          dataTable['output_type'] = 'display_data';\n",
       "          await google.colab.output.renderOutput(dataTable, element);\n",
       "          const docLink = document.createElement('div');\n",
       "          docLink.innerHTML = docLinkHtml;\n",
       "          element.appendChild(docLink);\n",
       "        }\n",
       "      </script>\n",
       "    </div>\n",
       "  </div>\n"
      ],
      "text/plain": [
       "   ID Funcionário_deixou_a_empresa  Idade Frequência de Viagens  \\\n",
       "0   1                          Sim     41       Viaja raramente   \n",
       "1   2                          Não     49  Viaja frequentemente   \n",
       "2   3                          Sim     37       Viaja raramente   \n",
       "3   4                          Não     33  Viaja frequentemente   \n",
       "4   5                          Não     27       Viaja raramente   \n",
       "\n",
       "   Distância_do_trabalho        Formação       E-Sat Gênero Estado_Civil  \\\n",
       "0                      1  Ensino Técnico       Médio      M     Solteiro   \n",
       "1                      8    Ensino Médio        Alto      H       Casado   \n",
       "2                      2  Ensino Técnico  Muito Alto      H     Solteiro   \n",
       "3                      3        Mestrado  Muito Alto      M       Casado   \n",
       "4                      2    Ensino Médio       Baixo      H       Casado   \n",
       "\n",
       "   Salário  ...  Faz_hora_extras? Perc_de_aumento  Qte_ações_da_empresa  \\\n",
       "0     5993  ...               Sim              11                     0   \n",
       "1     5130  ...               Não              23                     1   \n",
       "2     2090  ...               Sim              15                     0   \n",
       "3     2909  ...               Sim              11                     0   \n",
       "4     3468  ...               Não              12                     1   \n",
       "\n",
       "   Tempo_de_carreira  Horas_de_treinamento  Equilibrio_de_Vida  \\\n",
       "0                  8                     0                Ruim   \n",
       "1                 10                     3           Muito bom   \n",
       "2                  7                     3           Muito bom   \n",
       "3                  8                     3           Muito bom   \n",
       "4                  6                     3           Muito bom   \n",
       "\n",
       "  Tempo_de_empresa  Anos_no_mesmo_cargo  Anos_desde_a_ultima_promocao  \\\n",
       "0                6                    4                             0   \n",
       "1               10                    7                             1   \n",
       "2                0                    0                             0   \n",
       "3                8                    7                             3   \n",
       "4                2                    2                             2   \n",
       "\n",
       "   Anos_com_o_mesmo_chefe  \n",
       "0                       5  \n",
       "1                       7  \n",
       "2                       0  \n",
       "3                       0  \n",
       "4                       2  \n",
       "\n",
       "[5 rows x 21 columns]"
      ]
     },
     "execution_count": 2,
     "metadata": {},
     "output_type": "execute_result"
    }
   ],
   "source": [
    "# Importar bibliotecas\n",
    "import pandas as pd\n",
    "import matplotlib.pyplot as plt\n",
    "import seaborn as sns\n",
    "\n",
    "# Carregar os dados do arquivo CSV\n",
    "file_path = '/content/Base_RH_CSV.CSV'\n",
    "data = pd.read_csv(file_path, sep=';')\n",
    "\n",
    "# Mostrar as primeiras linhas dos dados\n",
    "data.head()"
   ]
  },
  {
   "cell_type": "markdown",
   "metadata": {
    "id": "cntP5-Wdu9x4"
   },
   "source": [
    "---"
   ]
  },
  {
   "cell_type": "markdown",
   "metadata": {
    "id": "cvcqXH--rcam"
   },
   "source": [
    "## Análise de Características Qualitativas e Taxa de Turnover:\n",
    "\n",
    "Características Qualitativas e Taxa de Turnover\n",
    "\n",
    "Nesta análise, exploramos as características qualitativas dos funcionários e sua relação com a taxa de turnover. Os resultados revelam insights sobre como variáveis como saída da empresa, frequência de viagens, formação, satisfação no trabalho (E-Sat) e gênero estão associadas à rotatividade."
   ]
  },
  {
   "cell_type": "code",
   "execution_count": null,
   "metadata": {
    "id": "tMwAdGaCnmS8"
   },
   "outputs": [],
   "source": [
    "# Tabelas de Frequências Absolutas e Relativas para Variáveis Qualitativas\n",
    "qualitative_vars = ['Funcionário_deixou_a_empresa', 'Frequência de Viagens', 'Formação', 'E-Sat', 'Gênero']\n",
    "\n",
    "# Loop para cada variável qualitativa\n",
    "for var in qualitative_vars:\n",
    "    freq_table = data[var].value_counts()  # Frequências absolutas\n",
    "    relative_freq_table = data[var].value_counts(normalize=True)  # Frequências relativas\n",
    "\n",
    "    # Mostrar tabelas\n",
    "    print(f\"Tabela de Frequências para {var}:\\n{freq_table}\\n\")\n",
    "    print(f\"Tabela de Frequências Relativas para {var}:\\n{relative_freq_table}\\n\")\n"
   ]
  },
  {
   "cell_type": "markdown",
   "metadata": {
    "id": "LR6t9jWVpoQ9"
   },
   "source": [
    "Essas são as tabelas de frequências e relativas para as variáveis qualitativas do conjunto de dados:\n",
    "\n",
    "Tabela de Frequências para **Funcionário_deixou_a_empresa**:\n",
    "- Não: 1233\n",
    "- Sim: 237\n",
    "\n",
    "Tabela de Frequências Relativas para **Funcionário_deixou_a_empresa**:\n",
    "- Não: 83.88%\n",
    "- Sim: 16.12%\n",
    "\n",
    "Tabela de Frequências para **Frequência de Viagens**:\n",
    "- Viaja raramente: 1043\n",
    "- Viaja frequentemente: 277\n",
    "- Não viaja: 150\n",
    "\n",
    "Tabela de Frequências Relativas para **Frequência de Viagens**:\n",
    "- Viaja raramente: 70.95%\n",
    "- Viaja frequentemente: 18.84%\n",
    "- Não viaja: 10.20%\n",
    "\n",
    "Tabela de Frequências para **Formação**:\n",
    "- Ensino Superior: 572\n",
    "- Mestrado: 398\n",
    "- Ensino Técnico: 282\n",
    "- Ensino Médio: 170\n",
    "- Doutorado: 48\n",
    "\n",
    "Tabela de Frequências Relativas para **Formação**:\n",
    "- Ensino Superior: 38.92%\n",
    "- Mestrado: 27.07%\n",
    "- Ensino Técnico: 19.18%\n",
    "- Ensino Médio: 11.56%\n",
    "- Doutorado: 3.27%\n",
    "\n",
    "Tabela de Frequências para **E-Sat**:\n",
    "- Alto: 453\n",
    "- Muito Alto: 446\n",
    "- Médio: 287\n",
    "- Baixo: 284\n",
    "\n",
    "Tabela de Frequências Relativas para **E-Sat**:\n",
    "- Alto: 30.82%\n",
    "- Muito Alto: 30.34%\n",
    "- Médio: 19.52%\n",
    "- Baixo: 19.32%\n",
    "\n",
    "Tabela de Frequências para **Gênero**:\n",
    "- H: 882\n",
    "- M: 588\n",
    "\n",
    "Tabela de Frequências Relativas para **Gênero**:\n",
    "- H: 60%\n",
    "- M: 40%"
   ]
  },
  {
   "cell_type": "markdown",
   "metadata": {
    "id": "H7Ihnn0wuHuU"
   },
   "source": [
    "## Resumo:\n",
    "\n",
    "- A taxa de turnover atual é de 16.12%, indicando uma preocupação significativa com a saída de funcionários.\n",
    "- A maioria dos funcionários (83.88%) não deixou a empresa, enquanto 16.12% decidiram sair.\n",
    "- A frequência de viagens parece influenciar o turnover. Funcionários que não viajam têm alta retenção (92%) e baixa taxa de turnover (8%).\n",
    "- A formação varia: Ensino Superior (38.92%), Mestrado (27.07%), Ensino Técnico (19.18%), Ensino Médio (11.56%) e Doutorado (3.27%).\n",
    "- A satisfação no trabalho (E-Sat) também varia: Alto (30.82%), Muito Alto (30.34%), Médio (19.52%) e Baixo (19.32%).\n",
    "A divisão de gênero mostra que 60% são homens e 40% mulheres.\n",
    "\n",
    "---"
   ]
  },
  {
   "cell_type": "markdown",
   "metadata": {
    "id": "5Il0m7VxrgqJ"
   },
   "source": [
    "## Análise de Características Quantitativas e Taxa de Turnover:\n",
    "\n",
    "Características Quantitativas e Taxa de Turnover\n",
    "\n",
    "Nesta análise, exploramos características quantitativas dos funcionários, incluindo idade, distância do trabalho, salário e quantidade de empresas trabalhadas. Esses fatores podem contribuir para entender padrões de turnover."
   ]
  },
  {
   "cell_type": "code",
   "execution_count": 4,
   "metadata": {
    "colab": {
     "base_uri": "https://localhost:8080/",
     "height": 1000
    },
    "id": "TcoRRntpnvXY",
    "outputId": "fc525243-f70c-4209-eec8-98085b5ad293"
   },
   "outputs": [
    {
     "data": {
      "image/png": "[encoded data removed]",
      "text/plain": [
       "<Figure size 800x600 with 1 Axes>"
      ]
     },
     "metadata": {},
     "output_type": "display_data"
    },
    {
     "name": "stdout",
     "output_type": "stream",
     "text": [
      "Resumo estatístico para Idade:\n",
      "count    1470.000000\n",
      "mean       36.923810\n",
      "std         9.135373\n",
      "min        18.000000\n",
      "25%        30.000000\n",
      "50%        36.000000\n",
      "75%        43.000000\n",
      "max        60.000000\n",
      "Name: Idade, dtype: float64\n",
      "\n"
     ]
    },
    {
     "data": {
      "image/png": "[encoded data removed]",
      "text/plain": [
       "<Figure size 800x600 with 1 Axes>"
      ]
     },
     "metadata": {},
     "output_type": "display_data"
    },
    {
     "name": "stdout",
     "output_type": "stream",
     "text": [
      "Resumo estatístico para Distância_do_trabalho:\n",
      "count    1470.000000\n",
      "mean        9.192517\n",
      "std         8.106864\n",
      "min         1.000000\n",
      "25%         2.000000\n",
      "50%         7.000000\n",
      "75%        14.000000\n",
      "max        29.000000\n",
      "Name: Distância_do_trabalho, dtype: float64\n",
      "\n"
     ]
    },
    {
     "data": {
      "image/png": "[encoded data removed]",
      "text/plain": [
       "<Figure size 800x600 with 1 Axes>"
      ]
     },
     "metadata": {},
     "output_type": "display_data"
    },
    {
     "name": "stdout",
     "output_type": "stream",
     "text": [
      "Resumo estatístico para Salário:\n",
      "count     1470.000000\n",
      "mean      6502.931293\n",
      "std       4707.956783\n",
      "min       1009.000000\n",
      "25%       2911.000000\n",
      "50%       4919.000000\n",
      "75%       8379.000000\n",
      "max      19999.000000\n",
      "Name: Salário, dtype: float64\n",
      "\n"
     ]
    },
    {
     "data": {
      "image/png": "[encoded data removed]",
      "text/plain": [
       "<Figure size 800x600 with 1 Axes>"
      ]
     },
     "metadata": {},
     "output_type": "display_data"
    },
    {
     "name": "stdout",
     "output_type": "stream",
     "text": [
      "Resumo estatístico para Qte_Empresas_Trabalhadas:\n",
      "count    1470.000000\n",
      "mean        2.693197\n",
      "std         2.498009\n",
      "min         0.000000\n",
      "25%         1.000000\n",
      "50%         2.000000\n",
      "75%         4.000000\n",
      "max         9.000000\n",
      "Name: Qte_Empresas_Trabalhadas, dtype: float64\n",
      "\n"
     ]
    }
   ],
   "source": [
    "# Tabelas e/ou Box-Plots para Variáveis Quantitativas\n",
    "quantitative_vars = ['Idade', 'Distância_do_trabalho', 'Salário', 'Qte_Empresas_Trabalhadas']\n",
    "\n",
    "# Loop para cada variável quantitativa\n",
    "for var in quantitative_vars:\n",
    "    summary_stats = data[var].describe()  # Resumo estatístico\n",
    "    plt.figure(figsize=(8, 6))\n",
    "    sns.boxplot(x=data[var])  # Box-plot\n",
    "    plt.title(f\"Box-Plot para {var}\")\n",
    "    plt.show()\n",
    "    print(f\"Resumo estatístico para {var}:\\n{summary_stats}\\n\")\n"
   ]
  },
  {
   "cell_type": "markdown",
   "metadata": {
    "id": "nG3DdkFJp84N"
   },
   "source": [
    "Esses são os resumos estatísticos para as variáveis quantitativas do conjunto de dados:\n",
    "\n",
    "**Resumo estatístico para Idade**:\n",
    "- Contagem: 1470\n",
    "- Média: 36.92\n",
    "- Desvio Padrão: 9.14\n",
    "- Mínimo: 18\n",
    "- Primeiro Quartil (25%): 30\n",
    "- Mediana (50%): 36\n",
    "- Terceiro Quartil (75%): 43\n",
    "- Máximo: 60\n",
    "\n",
    "**Resumo estatístico para Distância_do_trabalho**:\n",
    "- Contagem: 1470\n",
    "- Média: 9.19\n",
    "- Desvio Padrão: 8.11\n",
    "- Mínimo: 1\n",
    "- Primeiro Quartil (25%): 2\n",
    "- Mediana (50%): 7\n",
    "- Terceiro Quartil (75%): 14\n",
    "- Máximo: 29\n",
    "\n",
    "**Resumo estatístico para Salário**:\n",
    "- Contagem: 1470\n",
    "- Média: 6502.93\n",
    "- Desvio Padrão: 4707.96\n",
    "- Mínimo: 1009\n",
    "- Primeiro Quartil (25%): 2911\n",
    "- Mediana (50%): 4919\n",
    "- Terceiro Quartil (75%): 8379\n",
    "- Máximo: 19999\n",
    "\n",
    "**Resumo estatístico para Qte_Empresas_Trabalhadas**:\n",
    "- Contagem: 1470\n",
    "- Média: 2.69\n",
    "- Desvio Padrão: 2.50\n",
    "- Mínimo: 0\n",
    "- Primeiro Quartil (25%): 1\n",
    "- Mediana (50%): 2\n",
    "- Terceiro Quartil (75%): 4\n",
    "- Máximo: 9"
   ]
  },
  {
   "cell_type": "markdown",
   "metadata": {
    "id": "czFYj21cua-s"
   },
   "source": [
    "## Resumo Estatístico:\n",
    "\n",
    "- Idade média dos funcionários é 36.92 anos, variando de 18 a 60 anos.\n",
    "- A distância média do trabalho é 9.19 unidades, com variação de 1 a 29 unidades.\n",
    "- O salário médio é 6502.93 unidades, variando de 1009 a 19999 unidades.\n",
    "- Em média, os funcionários trabalharam em 2.69 empresas diferentes.\n",
    "\n",
    "---"
   ]
  },
  {
   "cell_type": "markdown",
   "metadata": {
    "id": "FR8HEft2rwC6"
   },
   "source": [
    "## Análise da Taxa de Turnover Atual:\n",
    "\n",
    "Análise da Taxa de Turnover Atual\n",
    "\n",
    "Nesta análise, examinamos a taxa de turnover atual de 16.12%. Isso indica que pouco mais de 16% dos funcionários da empresa deixaram seus cargos no último ano. Essa taxa é significativa e requer atenção, já que altas taxas de turnover podem impactar custos operacionais, produtividade e estabilidade no ambiente de trabalho."
   ]
  },
  {
   "cell_type": "code",
   "execution_count": 5,
   "metadata": {
    "colab": {
     "base_uri": "https://localhost:8080/"
    },
    "id": "0VzZYUnXn1uQ",
    "outputId": "c40a2fc8-2766-4979-9f5d-92542af21093"
   },
   "outputs": [
    {
     "name": "stdout",
     "output_type": "stream",
     "text": [
      "Taxa de Turnover Atual: 16.12%\n",
      "\n"
     ]
    }
   ],
   "source": [
    "# Taxa de Turnover Atual\n",
    "total_employees = len(data)\n",
    "turnover_count = data['Funcionário_deixou_a_empresa'].value_counts()['Sim']\n",
    "turnover_rate = (turnover_count / total_employees) * 100\n",
    "print(f\"Taxa de Turnover Atual: {turnover_rate:.2f}%\\n\")\n"
   ]
  },
  {
   "cell_type": "markdown",
   "metadata": {
    "id": "E6B-_BW7qK5q"
   },
   "source": [
    "A análise da taxa de turnover atual de 16.12% revela que um pouco mais de 16% dos funcionários da empresa de tecnologia deixaram seus cargos no último ano. Esse valor é significativo e merece atenção, pois indica que a rotatividade de funcionários é uma questão relevante para a organização. Uma taxa de turnover elevada pode ter impactos negativos nos custos operacionais, na produtividade dos times e na estabilidade do ambiente de trabalho.\n",
    "\n",
    "É fundamental investigar as razões por trás desse turnover e identificar os principais fatores que contribuem para que os funcionários deixem a empresa. Ao compreender esses fatores, a empresa pode adotar estratégias para minimizar a rotatividade, como melhorias nas políticas internas, ações de engajamento dos colaboradores, revisão de benefícios, programas de desenvolvimento profissional e outras iniciativas que promovam um ambiente de trabalho mais satisfatório e atraente para os funcionários.\n",
    "\n",
    "Além disso, é importante comparar essa taxa com benchmarks do setor para determinar se o valor de 16.12% é alto em relação às práticas comuns de outras empresas de tecnologia. Isso permitirá que a empresa tenha uma visão mais clara do seu desempenho em relação à retenção de talentos e estabeleça metas realistas para reduzir o turnover.\n",
    "\n",
    "A taxa de turnover atual de 16.12% é um indicador crítico que sinaliza a necessidade de ações proativas por parte da empresa para entender as causas subjacentes e implementar estratégias eficazes para reter e motivar seus funcionários."
   ]
  },
  {
   "cell_type": "markdown",
   "metadata": {
    "id": "X_KQ3xsNulF9"
   },
   "source": [
    "### Implicações e Recomendações:\n",
    "\n",
    "- Investigar as razões por trás do turnover, identificar fatores contribuintes e implementar estratégias de retenção é crucial.\n",
    "- Comparar a taxa com benchmarks do setor ajudará a contextualizar o desempenho da empresa.\n",
    "\n",
    "---"
   ]
  },
  {
   "cell_type": "markdown",
   "metadata": {
    "id": "Fx_ZTL3Zr0L4"
   },
   "source": [
    "### Influência da Frequência de Viagens na Taxa de Turnover:\n",
    "\n",
    "Nesta análise, investigamos a relação entre a frequência de viagens e a taxa de turnover. Os resultados mostram como diferentes níveis de viagens podem impactar a saída dos funcionários."
   ]
  },
  {
   "cell_type": "code",
   "execution_count": 6,
   "metadata": {
    "colab": {
     "base_uri": "https://localhost:8080/"
    },
    "id": "nfrpeZJhn4XM",
    "outputId": "b12710c5-b16e-4fdb-dcd6-4e9d90cd0e28"
   },
   "outputs": [
    {
     "name": "stdout",
     "output_type": "stream",
     "text": [
      "Taxa de Turnover por Frequência de Viagens:\n",
      " Funcionário_deixou_a_empresa       Não       Sim\n",
      "Frequência de Viagens                           \n",
      "Não viaja                     0.920000  0.080000\n",
      "Viaja frequentemente          0.750903  0.249097\n",
      "Viaja raramente               0.850431  0.149569\n"
     ]
    }
   ],
   "source": [
    "# Taxa de Turnover por Frequência de Viagens\n",
    "turnover_by_travel = data.groupby('Frequência de Viagens')['Funcionário_deixou_a_empresa'].value_counts(normalize=True).unstack()\n",
    "print(\"Taxa de Turnover por Frequência de Viagens:\\n\", turnover_by_travel)\n"
   ]
  },
  {
   "cell_type": "markdown",
   "metadata": {
    "id": "XGgp2ABgqXrT"
   },
   "source": [
    "A análise da taxa de turnover por frequência de viagens revela informações interessantes sobre como esse fator pode estar relacionado à saída dos funcionários da empresa. Observando os resultados apresentados:\n",
    "\n",
    "- Para os funcionários que não viajam a trabalho (\"Não viaja\"), a taxa de retenção é bastante alta, representando 92% dos casos, enquanto a taxa de turnover é baixa, com apenas 8% dos funcionários deixando a empresa. Isso pode sugerir que funcionários que não precisam viajar tendem a ficar mais satisfeitos com a situação e, portanto, são menos propensos a deixar a empresa.\n",
    "\n",
    "- No caso dos funcionários que viajam frequentemente (\"Viaja frequentemente\"), a taxa de retenção é menor, com cerca de 75% dos funcionários permanecendo na empresa, enquanto a taxa de turnover é mais elevada, representando 25% dos casos. Isso pode indicar que a frequência excessiva de viagens pode contribuir para um maior desgaste dos funcionários, levando a uma maior probabilidade de deixar a empresa.\n",
    "\n",
    "- Para os funcionários que viajam raramente (\"Viaja raramente\"), a taxa de retenção é razoavelmente alta, com cerca de 85% dos funcionários mantendo seus cargos, enquanto a taxa de turnover é de aproximadamente 15%. Isso sugere que os funcionários que viajam ocasionalmente têm uma taxa de turnover intermediária, o que pode estar relacionado a outros fatores além da frequência de viagens.\n",
    "\n",
    "Essa análise sugere que a frequência de viagens pode influenciar a taxa de turnover. Funcionários que não precisam viajar parecem ser mais propensos a permanecer na empresa, enquanto aqueles que viajam frequentemente podem estar mais propensos a deixar seus cargos. No entanto, é importante considerar também outros fatores contextuais que podem interagir com a frequência de viagens e impactar as decisões dos funcionários em relação à permanência na empresa."
   ]
  },
  {
   "cell_type": "markdown",
   "metadata": {
    "id": "MqyCYT0Xv8pz"
   },
   "source": [
    "## Resumo:\n",
    "\n",
    "Funcionários que não viajam têm alta retenção (92%) e baixa taxa de turnover (8%).\n",
    "Aqueles que viajam frequentemente têm menor retenção (75%) e taxa de turnover mais alta (25%).\n",
    "Funcionários que viajam raramente têm retenção intermediária (85%) e taxa de turnover de aproximadamente 15%.\n",
    "\n",
    "## Interpretação:\n",
    "\n",
    "A frequência de viagens parece influenciar o turnover. É importante considerar outros fatores contextuais.\n",
    "\n",
    "---"
   ]
  },
  {
   "cell_type": "markdown",
   "metadata": {
    "id": "MRU-JfL3r6AB"
   },
   "source": [
    "## Análise da Taxa de Turnover por Faixa de Idade:\n",
    "\n",
    "Nesta análise, investigamos como diferentes faixas etárias podem afetar a taxa de turnover. A faixa etária dos funcionários pode estar associada a diferentes padrões de permanência na empresa."
   ]
  },
  {
   "cell_type": "code",
   "execution_count": 9,
   "metadata": {
    "colab": {
     "base_uri": "https://localhost:8080/"
    },
    "id": "xtPW68xMn6iR",
    "outputId": "fc3c22a7-c35c-44a1-c738-d9b35c804a06"
   },
   "outputs": [
    {
     "name": "stdout",
     "output_type": "stream",
     "text": [
      "Taxa de Turnover por Faixa de Idade:\n",
      " Funcionário_deixou_a_empresa       Não       Sim\n",
      "Idade                                           \n",
      "[20, 30)                      0.737864  0.262136\n",
      "[30, 40)                      0.856913  0.143087\n",
      "[40, 50)                      0.902579  0.097421\n",
      "[50, 60)                      0.863095  0.136905\n",
      "[60, 70)                      1.000000  0.000000\n"
     ]
    }
   ],
   "source": [
    "# Taxa de Turnover por Faixa de Idade\n",
    "turnover_by_age = data.groupby(pd.cut(data['Idade'], bins=[20, 30, 40, 50, 60, 70], include_lowest=True, right=False))['Funcionário_deixou_a_empresa'].value_counts(normalize=True).unstack(fill_value=0)\n",
    "print(\"Taxa de Turnover por Faixa de Idade:\\n\", turnover_by_age)\n"
   ]
  },
  {
   "cell_type": "markdown",
   "metadata": {
    "id": "K85kkc7RqnEd"
   },
   "source": [
    "A análise da taxa de turnover por faixa de idade apresenta insights interessantes sobre como diferentes grupos etários podem estar relacionados à saída de funcionários da empresa. Ao analisar os resultados apresentados:\n",
    "\n",
    "- Na faixa etária entre 20 e 30 anos (\"[20, 30)\"), a taxa de retenção é de aproximadamente 74%, enquanto a taxa de turnover é de cerca de 26%. Isso indica que os funcionários mais jovens têm uma taxa de turnover relativamente maior, o que pode ser influenciado por fatores como busca por novas oportunidades ou falta de estabilidade profissional nessa fase da carreira.\n",
    "\n",
    "- Para a faixa etária entre 30 e 40 anos (\"[30, 40)\"), a taxa de retenção é mais alta, em torno de 86%, com uma taxa de turnover mais baixa de cerca de 14%. Isso sugere que os funcionários nessa faixa etária têm uma maior probabilidade de permanecer na empresa, possivelmente devido a um maior comprometimento e estabilidade profissional.\n",
    "\n",
    "- Na faixa etária entre 40 e 50 anos (\"[40, 50)\"), a taxa de retenção é ainda mais alta, com cerca de 90% dos funcionários permanecendo na empresa, e a taxa de turnover é de aproximadamente 10%. Isso pode indicar que os profissionais nessa faixa etária têm uma maior dedicação à empresa e podem estar buscando consolidar suas carreiras.\n",
    "\n",
    "- Para a faixa etária entre 50 e 60 anos (\"[50, 60)\"), a taxa de retenção é de cerca de 86%, com uma taxa de turnover de aproximadamente 14%. Isso mostra que os funcionários mais próximos à aposentadoria também têm uma taxa de turnover relativamente maior, talvez devido a planos de se aposentar ou buscar novos desafios antes de deixar o mercado de trabalho.\n",
    "\n",
    "- Na faixa etária entre 60 e 70 anos (\"[60, 70)\"), a taxa de retenção é de 100%, o que significa que nenhum funcionário deixou a empresa nessa faixa etária. No entanto, é importante observar que a amostra pode ser pequena nesse grupo, o que pode afetar a representatividade dos resultados.\n",
    "\n",
    "A análise da taxa de turnover por faixa de idade indica que diferentes grupos etários têm diferentes padrões de permanência na empresa. As faixas etárias mais jovens e mais próximas à aposentadoria tendem a ter taxas de turnover um pouco mais elevadas, enquanto as faixas intermediárias têm taxas de retenção mais altas. Esses padrões podem ser influenciados por fatores como aspirações de carreira, estabilidade profissional e planos de aposentadoria."
   ]
  },
  {
   "cell_type": "markdown",
   "metadata": {
    "id": "OQCbbu_Gw0el"
   },
   "source": [
    "## Resumo:\n",
    "\n",
    "- Funcionários entre 20 e 30 anos têm taxa de retenção de 74% e taxa de turnover de 26%.\n",
    "- A faixa entre 30 e 40 anos tem alta retenção (86%) e baixa taxa de turnover (14%).\n",
    "- Profissionais entre 40 e 50 anos têm alta retenção (90%) e taxa de turnover de 10%.\n",
    "- A faixa de 50 a 60 anos tem taxa de retenção de 86% e taxa de turnover de 14%.\n",
    "Funcionários entre 60 e 70 anos têm retenção completa (100%).\n",
    "\n",
    "---"
   ]
  },
  {
   "cell_type": "markdown",
   "metadata": {
    "id": "PSif1wX-xPgO"
   },
   "source": [
    "## Conclusão:\n",
    "\n",
    "Diferentes grupos etários têm padrões distintos de permanência na empresa. As razões podem variar desde aspirações de carreira até planos de aposentadoria."
   ]
  }
 ],
 "metadata": {
  "colab": {
   "provenance": []
  },
  "kernelspec": {
   "display_name": "Python 3 (ipykernel)",
   "language": "python",
   "name": "python3"
  },
  "language_info": {
   "codemirror_mode": {
    "name": "ipython",
    "version": 3
   },
   "file_extension": ".py",
   "mimetype": "text/x-python",
   "name": "python",
   "nbconvert_exporter": "python",
   "pygments_lexer": "ipython3",
   "version": "3.10.9"
  }
 },
 "nbformat": 4,
 "nbformat_minor": 1
}
